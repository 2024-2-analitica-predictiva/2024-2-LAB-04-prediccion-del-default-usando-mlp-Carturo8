{
 "cells": [
  {
   "cell_type": "markdown",
   "metadata": {},
   "source": [
    "#### Paso 0\n",
    "\n",
    "Lectura de los datasets:"
   ]
  },
  {
   "cell_type": "code",
   "execution_count": 1,
   "metadata": {},
   "outputs": [],
   "source": [
    "# Importar las librerías necesarias\n",
    "import pandas as pd\n",
    "\n",
    "# Leer los datasets\n",
    "test_data = pd.read_csv(\"../files/input/test_data.csv.zip\", index_col = False, compression = \"zip\")\n",
    "train_data = pd.read_csv(\"../files/input/train_data.csv.zip\", index_col = False, compression = \"zip\")"
   ]
  },
  {
   "cell_type": "markdown",
   "metadata": {},
   "source": [
    "#### Paso 1\n",
    "\n",
    "Realizar la limpieza de los datasets"
   ]
  },
  {
   "cell_type": "code",
   "execution_count": 15,
   "metadata": {},
   "outputs": [],
   "source": [
    "# Renombrar la columna \"default payment next month\" a \"default\".\n",
    "test_data = test_data.rename(columns={'default payment next month': 'default'})\n",
    "train_data = train_data.rename(columns={'default payment next month': 'default'})\n",
    "\n",
    "# Remover la columna \"ID\".\n",
    "test_data=test_data.drop(columns=['ID'])\n",
    "train_data=train_data.drop(columns=['ID'])\n",
    "\n",
    "# Remover las filas con valores faltantes en el dataset de entrenamiento\n",
    "train_data = train_data.loc[train_data[\"MARRIAGE\"] != 0]\n",
    "train_data = train_data.loc[train_data[\"EDUCATION\"] != 0]\n",
    "\n",
    "# Remover las filas con valores faltantes en el dataset de prueba\n",
    "test_data = test_data.loc[test_data[\"MARRIAGE\"] != 0]\n",
    "test_data = test_data.loc[test_data[\"EDUCATION\"] != 0]\n",
    "\n",
    "# Modificar la columna 'EDUCATION' para valores > 4, agrupar en \"others\"\n",
    "train_data['EDUCATION'] = train_data['EDUCATION'].apply(lambda x: 4 if x > 4 else x)\n",
    "test_data['EDUCATION'] = test_data['EDUCATION'].apply(lambda x: 4 if x > 4 else x)"
   ]
  },
  {
   "cell_type": "markdown",
   "metadata": {},
   "source": [
    "#### Paso 2\n",
    "\n",
    "Dividir los datasets en x_train, y_train, x_test, y_tes:"
   ]
  },
  {
   "cell_type": "code",
   "execution_count": 16,
   "metadata": {},
   "outputs": [],
   "source": [
    "# Conjunto de entrenamiento\n",
    "x_train = train_data.drop(columns = \"default\")\n",
    "y_train = train_data[\"default\"]\n",
    "\n",
    "# Conjunto de prueba\n",
    "x_test = test_data.drop(columns = \"default\")\n",
    "y_test = test_data[\"default\"]"
   ]
  },
  {
   "cell_type": "markdown",
   "metadata": {},
   "source": [
    "#### Paso 3\n",
    "\n",
    "Crear un pipeline para el modelo de clasificación. Este pipeline debe contener las siguientes capas:"
   ]
  },
  {
   "cell_type": "markdown",
   "metadata": {},
   "source": [
    "##### Transformar las variables categoricas usando el método one-hot-encoding:"
   ]
  },
  {
   "cell_type": "code",
   "execution_count": 17,
   "metadata": {},
   "outputs": [],
   "source": [
    "# Importar las librerias necesarias\n",
    "from sklearn.compose import ColumnTransformer\n",
    "from sklearn.preprocessing import OneHotEncoder, StandardScaler\n",
    "\n",
    "# Seleccionar las columnas categóricas y numéricas\n",
    "categorical_columns = [\"SEX\", \"EDUCATION\", \"MARRIAGE\"]\n",
    "numerical_columns = [col for col in x_train.columns if col not in categorical_columns]\n",
    "\n",
    "# Definir el transformador para las variables categóricas (One-Hot Encoding)\n",
    "preprocessor = ColumnTransformer(\n",
    "    transformers = [\n",
    "        ('cat', OneHotEncoder(), categorical_columns),\n",
    "        ('scaler', StandardScaler(), numerical_columns)\n",
    "    ]\n",
    ")"
   ]
  },
  {
   "cell_type": "markdown",
   "metadata": {},
   "source": [
    "#### - Descompone la matriz de entrada usando componentes principales.\n",
    "#### - El pca usa todas las componentes.\n",
    "#### - Escala la matriz de entrada al intervalo [0, 1].\n",
    "#### - Selecciona las K columnas mas relevantes de la matrix de entrada.\n",
    "#### - Ajusta una red neuronal tipo MLP."
   ]
  },
  {
   "cell_type": "code",
   "execution_count": 18,
   "metadata": {},
   "outputs": [],
   "source": [
    "# Importar las librerias necesarias\n",
    "from sklearn.pipeline import Pipeline\n",
    "from sklearn.decomposition import PCA\n",
    "from sklearn.feature_selection import SelectKBest, f_classif\n",
    "from sklearn.neural_network import MLPClassifier\n",
    "\n",
    "# Crear el pipeline con preprocesamiento, PCA, selección de características y clasificador\n",
    "pipeline = Pipeline([\n",
    "    (\"preprocessor\", preprocessor),\n",
    "    ('feature_selection', SelectKBest(score_func = f_classif)),\n",
    "    ('pca', PCA()),\n",
    "    ('classifier', MLPClassifier(max_iter = 15000, random_state = 21))\n",
    "])"
   ]
  },
  {
   "cell_type": "markdown",
   "metadata": {},
   "source": []
  },
  {
   "cell_type": "code",
   "execution_count": null,
   "metadata": {},
   "outputs": [],
   "source": [
    "# Importar las librerias necesarias\n",
    "from sklearn.model_selection import GridSearchCV\n",
    "\n",
    "# Definir los parámetros que se van a probar en el GridSearch\n",
    "param_grid = {\n",
    "        \"pca__n_components\": [None],\n",
    "        \"feature_selection__k\": [20],\n",
    "        \"classifier__hidden_layer_sizes\": [(50, 30, 40, 60)],\n",
    "        \"classifier__alpha\": [0.26],\n",
    "        'classifier__learning_rate_init': [0.001]\n",
    "    }\n",
    "\n",
    "# Crear el modelo con GridSearch\n",
    "model = GridSearchCV(\n",
    "    pipeline,                      # El pipeline que definimos previamente\n",
    "    param_grid,                    # Los hiperparámetros a probar\n",
    "    cv = 10,                       # Número de splits para validación cruzada\n",
    "    scoring = \"balanced_accuracy\", # Usamos precisión balanceada\n",
    "    refit = True,                  # Refinar el modelo con el mejor resultado\n",
    "    n_jobs = -1,                   # Usar todos los núcleos disponibles\n",
    "    verbose = 2\n",
    ")\n",
    "\n",
    "# Ajustar el modelo con el conjunto de entrenamiento\n",
    "model.fit(x_train, y_train)"
   ]
  },
  {
   "cell_type": "markdown",
   "metadata": {},
   "source": []
  },
  {
   "cell_type": "code",
   "execution_count": null,
   "metadata": {},
   "outputs": [],
   "source": [
    "# Ver los mejores parámetros encontrados\n",
    "print(f\"Mejores hiperparámetros: {model.best_params_}\")"
   ]
  },
  {
   "cell_type": "code",
   "execution_count": null,
   "metadata": {},
   "outputs": [],
   "source": [
    "# Importar las librerías necesarias\n",
    "import os\n",
    "import gzip\n",
    "import pickle\n",
    "\n",
    "# Crear la carpeta si no existe\n",
    "models_dir = '../files/models'\n",
    "os.makedirs(models_dir, exist_ok = True)\n",
    "\n",
    "# Definir la ruta donde se guardará el modelo\n",
    "model_path = \"../files/models/model.pkl.gz\"\n",
    "\n",
    "# Guardar el modelo entrenado en un archivo\n",
    "with gzip.open(model_path, \"wb\") as model_file:\n",
    "    pickle.dump(model, model_file)\n",
    "\n",
    "print(f\"Modelo guardado en '{model_path}'\")"
   ]
  },
  {
   "cell_type": "code",
   "execution_count": 22,
   "metadata": {},
   "outputs": [],
   "source": [
    "# import json\n",
    "# from sklearn.metrics import precision_score, recall_score, f1_score, balanced_accuracy_score\n",
    "\n",
    "# def calculate_and_save_metrics(model, X_train, X_test, y_train, y_test):\n",
    "#     # Hacer predicciones\n",
    "#     y_train_pred = model.predict(X_train)\n",
    "#     y_test_pred = model.predict(X_test)\n",
    "\n",
    "#     # Calcular métricas para el conjunto de entrenamiento\n",
    "#     metrics_train = {\n",
    "#         'type': 'metrics',\n",
    "#         'dataset': 'train',\n",
    "#         'precision': float(precision_score(y_train, y_train_pred, zero_division=0)),\n",
    "#         'balanced_accuracy': float(balanced_accuracy_score(y_train, y_train_pred)),\n",
    "#         'recall': float(recall_score(y_train, y_train_pred, zero_division=0)),\n",
    "#         'f1_score': float(f1_score(y_train, y_train_pred, zero_division=0))\n",
    "#     }\n",
    "\n",
    "#     # Calcular métricas para el conjunto de prueba\n",
    "#     metrics_test = {\n",
    "#         'type': 'metrics',\n",
    "#         'dataset': 'test',\n",
    "#         'precision': float(precision_score(y_test, y_test_pred, zero_division=0)),\n",
    "#         'balanced_accuracy':float(balanced_accuracy_score(y_test, y_test_pred)),\n",
    "#         'recall': float(recall_score(y_test, y_test_pred, zero_division=0)),\n",
    "#         'f1_score': float(f1_score(y_test, y_test_pred, zero_division=0))\n",
    "#     }\n",
    "\n",
    "#     # Crear carpeta si no existe\n",
    "#     output_dir = '../files/output'\n",
    "#     os.makedirs(output_dir, exist_ok=True)\n",
    "\n",
    "#     # Guardar las métricas en un archivo JSON\n",
    "#     output_path = os.path.join(output_dir, 'metrics.json')\n",
    "#     with open(output_path, 'w') as f:  # Usar 'w' para comenzar con un archivo limpio\n",
    "#         f.write(json.dumps(metrics_train) + '\\n')\n",
    "#         f.write(json.dumps(metrics_test) + '\\n')"
   ]
  },
  {
   "cell_type": "code",
   "execution_count": 23,
   "metadata": {},
   "outputs": [],
   "source": [
    "# from sklearn.metrics import confusion_matrix\n",
    "# # Función para calcular las matrices de confusión y guardarlas\n",
    "# def calculate_and_save_confusion_matrices(model, X_train, X_test, y_train, y_test):\n",
    "#     # Hacer predicciones\n",
    "#     y_train_pred = model.predict(X_train)\n",
    "#     y_test_pred = model.predict(X_test)\n",
    "\n",
    "#     # Calcular matrices de confusión\n",
    "#     cm_train = confusion_matrix(y_train, y_train_pred)\n",
    "#     cm_test = confusion_matrix(y_test, y_test_pred)\n",
    "\n",
    "#     # Convertir las matrices de confusión en formato JSON\n",
    "#     def format_confusion_matrix(cm, dataset_type):\n",
    "#         return {\n",
    "#             'type': 'cm_matrix',\n",
    "#             'dataset': dataset_type,\n",
    "#             'true_0': {\n",
    "#                 'predicted_0': int(cm[0, 0]),\n",
    "#                 'predicted_1': int(cm[0, 1])\n",
    "#             },\n",
    "#             'true_1': {\n",
    "#                 'predicted_0': int(cm[1, 0]),\n",
    "#                 'predicted_1': int(cm[1, 1])\n",
    "#             }\n",
    "#         }\n",
    "#     metrics = [\n",
    "#         format_confusion_matrix(cm_train, 'train'),\n",
    "#         format_confusion_matrix(cm_test, 'test')\n",
    "#     ]\n",
    "\n",
    "#     # Guardar las matrices de confusión en el mismo archivo JSON\n",
    "#     output_path = '../files/output/metrics.json'\n",
    "#     with open(output_path, 'a') as f:  # Usar 'a' para agregar después de las métricas\n",
    "#         for metric in metrics:\n",
    "#             f.write(json.dumps(metric) + '\\n')\n",
    "\n",
    "# # Función principal para ejecutar todo\n",
    "# def main(model, X_train, X_test, y_train, y_test):\n",
    "#     # Crear el directorio de salida si no existe\n",
    "#     import os\n",
    "#     os.makedirs('../files/output', exist_ok=True)\n",
    "\n",
    "#     # Calcular y guardar las métricas\n",
    "#     calculate_and_save_metrics(model, X_train, X_test, y_train, y_test)\n",
    "\n",
    "#     # Calcular y guardar las matrices de confusión\n",
    "#     calculate_and_save_confusion_matrices(model, X_train, X_test, y_train, y_test)\n",
    "\n",
    "# # Ejemplo de uso:\n",
    "# main(model, x_train, x_test, y_train, y_test)"
   ]
  },
  {
   "cell_type": "code",
   "execution_count": 24,
   "metadata": {},
   "outputs": [],
   "source": [
    "# Importar las librerías necesarias\n",
    "import json\n",
    "from sklearn.metrics import precision_score, recall_score, f1_score, balanced_accuracy_score\n",
    "\n",
    "# Hacer predicciones\n",
    "y_train_pred = model.predict(x_train)\n",
    "y_test_pred = model.predict(x_test)\n",
    "\n",
    "# Calcular métricas para el conjunto de entrenamiento\n",
    "metrics_train = {\n",
    "    'type': 'metrics',\n",
    "    'dataset': 'train',\n",
    "    'precision': float(precision_score(y_train, y_train_pred, zero_division = 0)),\n",
    "    'balanced_accuracy': float(balanced_accuracy_score(y_train, y_train_pred)),\n",
    "    'recall': float(recall_score(y_train, y_train_pred, zero_division = 0)),\n",
    "    'f1_score': float(f1_score(y_train, y_train_pred, zero_division = 0))\n",
    "}\n",
    "\n",
    "# Calcular métricas para el conjunto de prueba\n",
    "metrics_test = {\n",
    "    'type': 'metrics',\n",
    "    'dataset': 'test',\n",
    "    'precision': float(precision_score(y_test, y_test_pred, zero_division = 0)),\n",
    "    'balanced_accuracy': float(balanced_accuracy_score(y_test, y_test_pred)),\n",
    "    'recall': float(recall_score(y_test, y_test_pred, zero_division = 0)),\n",
    "    'f1_score': float(f1_score(y_test, y_test_pred, zero_division = 0))\n",
    " }\n",
    "\n",
    "# Crear carpeta si no existe\n",
    "output_dir = '../files/output'\n",
    "os.makedirs(output_dir, exist_ok = True)\n",
    "\n",
    "# Guardar las métricas en un archivo JSON\n",
    "output_path = os.path.join(output_dir, 'metrics.json')\n",
    "with open(output_path, 'w') as f:  # Usar 'w' para comenzar con un archivo limpio\n",
    "    f.write(json.dumps(metrics_train) + '\\n')\n",
    "    f.write(json.dumps(metrics_test) + '\\n')"
   ]
  },
  {
   "cell_type": "code",
   "execution_count": 25,
   "metadata": {},
   "outputs": [],
   "source": [
    "# Importar las librerías necesarias\n",
    "from sklearn.metrics import confusion_matrix\n",
    "\n",
    "# Calcular matrices de confusión\n",
    "cm_train = confusion_matrix(y_train, y_train_pred)\n",
    "cm_test = confusion_matrix(y_test, y_test_pred)\n",
    "\n",
    "# Convertir las matrices de confusión en formato JSON\n",
    "def format_confusion_matrix(cm, dataset_type):\n",
    "    return {\n",
    "        'type': 'cm_matrix',\n",
    "        'dataset': dataset_type,\n",
    "        'true_0': {\n",
    "            'predicted_0': int(cm[0, 0]),\n",
    "            'predicted_1': int(cm[0, 1])\n",
    "        },\n",
    "        'true_1': {\n",
    "            'predicted_0': int(cm[1, 0]),\n",
    "            'predicted_1': int(cm[1, 1])\n",
    "        }\n",
    "    }\n",
    "\n",
    "metrics = [\n",
    "    format_confusion_matrix(cm_train, 'train'),\n",
    "    format_confusion_matrix(cm_test, 'test')\n",
    "]\n",
    "\n",
    "# Guardar las matrices de confusión en el mismo archivo JSON\n",
    "output_path = '../files/output/metrics.json'\n",
    "with open(output_path, 'a') as f:  # Usar 'a' para agregar después de las métricas\n",
    "    for metric in metrics:\n",
    "        f.write(json.dumps(metric) + '\\n')"
   ]
  },
  {
   "cell_type": "code",
   "execution_count": null,
   "metadata": {},
   "outputs": [],
   "source": [
    "import json\n",
    "\n",
    "# Ruta al archivo de salida\n",
    "output_file_path = '../files/output/metrics.json'\n",
    "\n",
    "# Abrir el archivo y cargar las métricas\n",
    "metrics = []\n",
    "with open(output_file_path, 'r') as json_file:\n",
    "    for line in json_file:\n",
    "        metrics.append(json.loads(line))\n",
    "\n",
    "# Mostrar las métricas cargadas\n",
    "for metric in metrics:\n",
    "    print(metric)"
   ]
  }
 ],
 "metadata": {
  "kernelspec": {
   "display_name": ".venv",
   "language": "python",
   "name": "python3"
  },
  "language_info": {
   "codemirror_mode": {
    "name": "ipython",
    "version": 3
   },
   "file_extension": ".py",
   "mimetype": "text/x-python",
   "name": "python",
   "nbconvert_exporter": "python",
   "pygments_lexer": "ipython3",
   "version": "3.10.11"
  }
 },
 "nbformat": 4,
 "nbformat_minor": 2
}
