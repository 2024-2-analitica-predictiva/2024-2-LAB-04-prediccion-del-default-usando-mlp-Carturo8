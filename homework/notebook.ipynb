{
 "cells": [
  {
   "cell_type": "markdown",
   "metadata": {},
   "source": [
    "#### Paso 0\n",
    "\n",
    "Lectura de los datasets:"
   ]
  },
  {
   "cell_type": "code",
   "execution_count": 1,
   "metadata": {},
   "outputs": [],
   "source": [
    "# Importar las librerias necesarias\n",
    "import pandas as pd\n",
    "\n",
    "# Leer los datasets\n",
    "test_data = pd.read_csv(\"../files/input/test_data.csv.zip\", index_col = False, compression = \"zip\")\n",
    "train_data = pd.read_csv(\"../files/input/train_data.csv.zip\", index_col = False, compression = \"zip\")"
   ]
  },
  {
   "cell_type": "markdown",
   "metadata": {},
   "source": [
    "#### Paso 1\n",
    "\n",
    "Realizar la limpieza de los datasets:"
   ]
  },
  {
   "cell_type": "code",
   "execution_count": 2,
   "metadata": {},
   "outputs": [],
   "source": [
    "# Renombrar la columna \"default payment next month\" a \"default\".\n",
    "test_data = test_data.rename(columns = {'default payment next month': 'default'})\n",
    "train_data = train_data.rename(columns = {'default payment next month': 'default'})\n",
    "\n",
    "# Remover la columna \"ID\".\n",
    "test_data = test_data.drop(columns = ['ID'])\n",
    "train_data = train_data.drop(columns = ['ID'])\n",
    "\n",
    "# Remover las filas con valores faltantes en el dataset de entrenamiento\n",
    "train_data = train_data.loc[train_data[\"MARRIAGE\"] != 0]\n",
    "train_data = train_data.loc[train_data[\"EDUCATION\"] != 0]\n",
    "\n",
    "# Remover las filas con valores faltantes en el dataset de prueba\n",
    "test_data = test_data.loc[test_data[\"MARRIAGE\"] != 0]\n",
    "test_data = test_data.loc[test_data[\"EDUCATION\"] != 0]\n",
    "\n",
    "# Modificar la columna 'EDUCATION' para valores > 4, agrupar en \"others\"\n",
    "train_data['EDUCATION'] = train_data['EDUCATION'].apply(lambda x: 4 if x > 4 else x)\n",
    "test_data['EDUCATION'] = test_data['EDUCATION'].apply(lambda x: 4 if x > 4 else x)"
   ]
  },
  {
   "cell_type": "markdown",
   "metadata": {},
   "source": [
    "#### Paso 2\n",
    "\n",
    "Dividir los datasets en x_train, y_train, x_test, y_tes:"
   ]
  },
  {
   "cell_type": "code",
   "execution_count": 3,
   "metadata": {},
   "outputs": [],
   "source": [
    "# Separar en (X) variables y variable objetivo (y)\n",
    "\n",
    "# Conjunto de entrenamiento\n",
    "X_train = train_data.drop(columns = ['default'])\n",
    "y_train = train_data['default']\n",
    "\n",
    "# Conjunto de prueba\n",
    "X_test = test_data.drop(columns = ['default'])\n",
    "y_test = test_data['default']"
   ]
  },
  {
   "cell_type": "markdown",
   "metadata": {},
   "source": [
    "#### Paso 3\n",
    "\n",
    "Crear un pipeline para el modelo de clasificación. Este pipeline debe contener las siguientes capas:"
   ]
  },
  {
   "cell_type": "markdown",
   "metadata": {},
   "source": [
    "##### Transformar las variables categoricas usando el método one-hot-encoding:"
   ]
  },
  {
   "cell_type": "code",
   "execution_count": 4,
   "metadata": {},
   "outputs": [],
   "source": [
    "# Importar las librerias necesarias\n",
    "from sklearn.compose import ColumnTransformer\n",
    "from sklearn.preprocessing import OneHotEncoder, StandardScaler\n",
    "\n",
    "# Seleccionar las columnas categóricas y numéricas\n",
    "categorical_columns = ['SEX', 'EDUCATION', 'MARRIAGE']\n",
    "numerical_columns = num_columns = [col for col in X_train.columns if col not in categorical_columns]\n",
    "\n",
    "# Definir el transformador para las variables categóricas (One-Hot Encoding)\n",
    "preprocessor = ColumnTransformer(\n",
    "    transformers = [\n",
    "        ('cat', OneHotEncoder(), categorical_columns), \n",
    "        ('scaler', StandardScaler(), numerical_columns)\n",
    "    ]\n",
    ")"
   ]
  },
  {
   "cell_type": "markdown",
   "metadata": {},
   "source": [
    "#### - Descompone la matriz de entrada usando componentes principales.\n",
    "#### - El pca usa todas las componentes.\n",
    "#### - Escala la matriz de entrada al intervalo [0, 1].\n",
    "#### - Selecciona las K columnas mas relevantes de la matrix de entrada.\n",
    "#### - Ajusta una red neuronal tipo MLP."
   ]
  },
  {
   "cell_type": "code",
   "execution_count": 5,
   "metadata": {},
   "outputs": [],
   "source": [
    "# Importar las librerias necesarias\n",
    "from sklearn.pipeline import Pipeline\n",
    "from sklearn.decomposition import PCA\n",
    "from sklearn.feature_selection import SelectKBest, f_classif\n",
    "from sklearn.neural_network import MLPClassifier\n",
    "\n",
    "# Crear el pipeline con preprocesamiento, PCA, selección de características y clasificador\n",
    "pipeline = Pipeline([\n",
    "    (\"preprocessor\", preprocessor),\n",
    "    ('pca', PCA()),\n",
    "    ('feature_selection', SelectKBest(score_func = f_classif)),\n",
    "    ('classifier', MLPClassifier(max_iter = 15000, random_state = 21))\n",
    "])"
   ]
  },
  {
   "cell_type": "markdown",
   "metadata": {},
   "source": [
    "#### Paso 4\n",
    "\n",
    "Optimizar los hiperparametros del pipeline usando validación cruzada. Usar 10 splits para la validación cruzada. Usar la función de precisión balanceada para medir la precisión del modelo:"
   ]
  },
  {
   "cell_type": "code",
   "execution_count": 6,
   "metadata": {},
   "outputs": [
    {
     "name": "stdout",
     "output_type": "stream",
     "text": [
      "Mejores hiperparámetros: {'classifier__alpha': 0.26, 'classifier__hidden_layer_sizes': (50, 30, 40, 60), 'classifier__learning_rate_init': 0.001, 'feature_selection__k': 20, 'pca__n_components': None}\n"
     ]
    }
   ],
   "source": [
    "# Importar las librerias necesarias\n",
    "from sklearn.model_selection import GridSearchCV\n",
    "\n",
    "# Definir los parámetros que se van a probar en el GridSearch\n",
    "param_grid = {\n",
    "    \"pca__n_components\": [None],\n",
    "    \"feature_selection__k\": [20],\n",
    "    \"classifier__hidden_layer_sizes\": [(50, 30, 40, 60)],\n",
    "    \"classifier__alpha\": [0.26],\n",
    "    'classifier__learning_rate_init': [0.001]\n",
    "}\n",
    "\n",
    "# Crear el modelo con GridSearch\n",
    "model = GridSearchCV(\n",
    "    pipeline,                      # El pipeline que definimos previamente\n",
    "    param_grid,                    # Los hiperparámetros a probar\n",
    "    cv = 10,                       # Número de splits para validación cruzada\n",
    "    scoring = \"balanced_accuracy\", # Usamos precisión balanceada\n",
    "    n_jobs = -1,                   # Usar todos los núcleos disponibles\n",
    "    refit = True                   # Refinar el modelo con el mejor resultado\n",
    ")\n",
    "\n",
    "# Ajustar el modelo con el conjunto de entrenamiento\n",
    "model.fit(X_train, y_train)\n",
    "\n",
    "# Ver los mejores parámetros encontrados\n",
    "print(f\"Mejores hiperparámetros: {model.best_params_}\")"
   ]
  },
  {
   "cell_type": "markdown",
   "metadata": {},
   "source": [
    "##### Paso 5\n",
    "\n",
    "Guardar el modelo como \"files/models/model.pkl.gz\":"
   ]
  },
  {
   "cell_type": "code",
   "execution_count": 7,
   "metadata": {},
   "outputs": [
    {
     "name": "stdout",
     "output_type": "stream",
     "text": [
      "Modelo guardado en '../files/models/model.pkl.gz'\n"
     ]
    }
   ],
   "source": [
    "# Importar las librerías necesarias\n",
    "import os\n",
    "import gzip\n",
    "import pickle\n",
    "\n",
    "# Crear carpeta si no existe\n",
    "models_dir = '../files/models'\n",
    "os.makedirs(models_dir, exist_ok = True)\n",
    "\n",
    "# Definir la ruta donde se guardará el modelo\n",
    "model_path = \"../files/models/model.pkl.gz\"\n",
    "\n",
    "# Guardar el modelo entrenado en un archivo\n",
    "with gzip.open(model_path, \"wb\") as model_file:\n",
    "    pickle.dump(model, model_file)\n",
    "\n",
    "print(f\"Modelo guardado en '{model_path}'\")"
   ]
  },
  {
   "cell_type": "markdown",
   "metadata": {},
   "source": [
    "##### Paso 6\n",
    "\n",
    "Calcular las metricas de precisión, precisión balanceada, recall, y f1-score para los conjuntos de entrenamiento y prueba. Guardarlas en el archivo files/output/metrics.json. Cada fila del archivo es un diccionario con las metricas de un modelo. \n",
    "\n",
    "Este diccionario tiene un campo para indicar si es el conjunto de entrenamiento o prueba. Por ejemplo:\n",
    "\n",
    "{'dataset': 'train', 'precision': 0.8, 'balanced_accuracy': 0.7, 'recall': 0.9, 'f1_score': 0.85}\n",
    "\n",
    "{'dataset': 'test', 'precision': 0.7, 'balanced_accuracy': 0.6, 'recall': 0.8, 'f1_score': 0.75}"
   ]
  },
  {
   "cell_type": "code",
   "execution_count": 8,
   "metadata": {},
   "outputs": [],
   "source": [
    "# Importar las librerías necesarias\n",
    "import json\n",
    "from sklearn.metrics import precision_score, recall_score, f1_score, balanced_accuracy_score\n",
    "\n",
    "# Hacer predicciones\n",
    "y_train_pred = model.predict(X_train)\n",
    "y_test_pred = model.predict(X_test)\n",
    "\n",
    "# Calcular métricas para el conjunto de entrenamiento\n",
    "metrics_train = {\n",
    "    'type': 'metrics',\n",
    "    'dataset': 'train',\n",
    "    'precision': precision_score(y_train, y_train_pred, zero_division=0),\n",
    "    'balanced_accuracy': balanced_accuracy_score(y_train, y_train_pred),\n",
    "    'recall': recall_score(y_train, y_train_pred, zero_division=0),\n",
    "    'f1_score': f1_score(y_train, y_train_pred, zero_division=0)\n",
    "}\n",
    "\n",
    "# Calcular métricas para el conjunto de prueba\n",
    "metrics_test = {\n",
    "    'type': 'metrics',\n",
    "    'dataset': 'test',\n",
    "    'precision': precision_score(y_test, y_test_pred, zero_division=0),\n",
    "    'balanced_accuracy': balanced_accuracy_score(y_test, y_test_pred),\n",
    "    'recall': recall_score(y_test, y_test_pred, zero_division=0),\n",
    "    'f1_score': f1_score(y_test, y_test_pred, zero_division=0)\n",
    " }\n",
    "\n",
    "# Crear carpeta si no existe\n",
    "output_dir = '../files/output'\n",
    "os.makedirs(output_dir, exist_ok=True)\n",
    "\n",
    "# Guardar las métricas en un archivo JSON\n",
    "output_path = os.path.join(output_dir, 'metrics.json')\n",
    "with open(output_path, 'w') as f:  # Usar 'w' para comenzar con un archivo limpio\n",
    "    f.write(json.dumps(metrics_train) + '\\n')\n",
    "    f.write(json.dumps(metrics_test) + '\\n')"
   ]
  },
  {
   "cell_type": "markdown",
   "metadata": {},
   "source": [
    "#### Paso 7\n",
    "\n",
    "Calcular las matrices de confusión para los conjuntos de entrenamiento y prueba. Guardarlas en el archivo files/output/metrics.json. \n",
    "\n",
    "Cada fila del archivo es un diccionario con las metricas de un modelo de entrenamiento o prueba. Por ejemplo:\n",
    "\n",
    "{'type': 'cm_matrix', 'dataset': 'train', 'true_0': {\"predicted_0\": 15562, \"predicte_1\": 666}, 'true_1': {\"predicted_0\": 3333, \"predicted_1\": 1444}}\n",
    "\n",
    "{'type': 'cm_matrix', 'dataset': 'test', 'true_0': {\"predicted_0\": 15562, \"predicte_1\": 650}, 'true_1': {\"predicted_0\": 2490, \"predicted_1\": 1420}}"
   ]
  },
  {
   "cell_type": "code",
   "execution_count": 9,
   "metadata": {},
   "outputs": [],
   "source": [
    "# Importar las librerías necesarias\n",
    "from sklearn.metrics import confusion_matrix\n",
    "\n",
    "# Calcular matrices de confusión\n",
    "cm_train = confusion_matrix(y_train, y_train_pred)\n",
    "cm_test = confusion_matrix(y_test, y_test_pred)\n",
    "\n",
    "# Convertir las matrices de confusión en formato JSON\n",
    "def format_confusion_matrix(cm, dataset_type):\n",
    "    return {\n",
    "        'type': 'cm_matrix',\n",
    "        'dataset': dataset_type,\n",
    "        'true_0': {\n",
    "            'predicted_0': int(cm[0, 0]),\n",
    "            'predicted_1': int(cm[0, 1])\n",
    "        },\n",
    "        'true_1': {\n",
    "            'predicted_0': int(cm[1, 0]),\n",
    "            'predicted_1': int(cm[1, 1])\n",
    "        }\n",
    "    }\n",
    "\n",
    "metrics = [\n",
    "    format_confusion_matrix(cm_train, 'train'),\n",
    "    format_confusion_matrix(cm_test, 'test')\n",
    "]\n",
    "\n",
    "# Guardar las matrices de confusión en el mismo archivo JSON\n",
    "output_path = '../files/output/metrics.json'\n",
    "with open(output_path, 'a') as f:  # Usar 'a' para agregar después de las métricas\n",
    "    for metric in metrics:\n",
    "        f.write(json.dumps(metric) + '\\n')"
   ]
  }
 ],
 "metadata": {
  "kernelspec": {
   "display_name": ".venv",
   "language": "python",
   "name": "python3"
  },
  "language_info": {
   "codemirror_mode": {
    "name": "ipython",
    "version": 3
   },
   "file_extension": ".py",
   "mimetype": "text/x-python",
   "name": "python",
   "nbconvert_exporter": "python",
   "pygments_lexer": "ipython3",
   "version": "3.10.11"
  }
 },
 "nbformat": 4,
 "nbformat_minor": 2
}
